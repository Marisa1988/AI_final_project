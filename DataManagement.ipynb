{
 "cells": [
  {
   "cell_type": "code",
   "execution_count": 1,
   "id": "1e24bbd9",
   "metadata": {},
   "outputs": [],
   "source": [
    "import pandas as pd\n",
    "from datetime import datetime"
   ]
  },
  {
   "cell_type": "code",
   "execution_count": 4,
   "id": "650f229f",
   "metadata": {},
   "outputs": [],
   "source": [
    "# Online Sales Data\n",
    "online_sales = pd.DataFrame({\n",
    "    'product_code': ['P123', 'P124', 'P125'],\n",
    "    'sale_date': ['2024-01-01', '2024-01-02', '2024-01-03'],\n",
    "    'units_sold': [100, 150, 200],\n",
    "    'total_sale_value': [1000, 1500, 2000]\n",
    "})"
   ]
  },
  {
   "cell_type": "code",
   "execution_count": 5,
   "id": "c1741e0f",
   "metadata": {},
   "outputs": [],
   "source": [
    "# Retail Sales Data\n",
    "retail_sales = pd.DataFrame({\n",
    "    'product_code': [123, 124, 125],\n",
    "    'sale_date': ['01/01/2024', '01/02/2024', '01/03/2024'],\n",
    "    'units_sold': [120, 130, 210],\n",
    "    'total_sale_value': [1200, 1300, 2100]\n",
    "})\n"
   ]
  },
  {
   "cell_type": "code",
   "execution_count": 6,
   "id": "fa04446d",
   "metadata": {},
   "outputs": [],
   "source": [
    "# Harmonize column names\n",
    "retail_sales['sale_date'] = pd.to_datetime(retail_sales['sale_date'], format='%m/%d/%Y')\n",
    "online_sales['product_code'] = online_sales['product_code'].str.replace('P', '').astype(int)\n",
    "online_sales['sale_date'] = pd.to_datetime(online_sales['sale_date'])\n"
   ]
  },
  {
   "cell_type": "code",
   "execution_count": 7,
   "id": "31cd8ad8",
   "metadata": {},
   "outputs": [
    {
     "name": "stdout",
     "output_type": "stream",
     "text": [
      "         product_code  sale_date  units_sold  total_sale_value\n",
      "Missing             0          0           0                 0\n"
     ]
    }
   ],
   "source": [
    "\n",
    "# Combine the datasets\n",
    "combined_sales = pd.concat([online_sales, retail_sales], ignore_index=True)\n",
    "\n",
    "# Perform some basic quality checks\n",
    "combined_sales_check = combined_sales.isnull().sum().to_frame(name='Missing').T\n",
    "\n",
    "# Display the checks\n",
    "print(combined_sales_check)"
   ]
  },
  {
   "cell_type": "code",
   "execution_count": 8,
   "id": "cd8e80d7",
   "metadata": {},
   "outputs": [
    {
     "name": "stdout",
     "output_type": "stream",
     "text": [
      "\n",
      "Combined Sales Data:\n",
      "   product_code  sale_date  units_sold  total_sale_value\n",
      "0           123 2024-01-01         100              1000\n",
      "1           124 2024-01-02         150              1500\n",
      "2           125 2024-01-03         200              2000\n",
      "3           123 2024-01-01         120              1200\n",
      "4           124 2024-01-02         130              1300\n",
      "5           125 2024-01-03         210              2100\n"
     ]
    }
   ],
   "source": [
    "# print the final dataset\n",
    "print(\"\\nCombined Sales Data:\")\n",
    "print(combined_sales)\n"
   ]
  },
  {
   "cell_type": "code",
   "execution_count": null,
   "id": "699acbdd",
   "metadata": {},
   "outputs": [],
   "source": []
  }
 ],
 "metadata": {
  "kernelspec": {
   "display_name": "Python 3",
   "language": "python",
   "name": "python3"
  },
  "language_info": {
   "codemirror_mode": {
    "name": "ipython",
    "version": 3
   },
   "file_extension": ".py",
   "mimetype": "text/x-python",
   "name": "python",
   "nbconvert_exporter": "python",
   "pygments_lexer": "ipython3",
   "version": "3.12.1"
  }
 },
 "nbformat": 4,
 "nbformat_minor": 5
}
